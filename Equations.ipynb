{
 "cells": [
  {
   "cell_type": "markdown",
   "id": "10743a4a",
   "metadata": {},
   "source": [
    "# Rozwiązywanie układów równań"
   ]
  },
  {
   "cell_type": "markdown",
   "id": "e125b092",
   "metadata": {},
   "source": [
    "## Metody pomocnicze do pracy z macierzami"
   ]
  },
  {
   "cell_type": "markdown",
   "id": "1716c3f6",
   "metadata": {},
   "source": [
    "Dodanie bibliotek"
   ]
  },
  {
   "cell_type": "code",
   "execution_count": 1,
   "id": "806f4274",
   "metadata": {},
   "outputs": [],
   "source": [
    "from math import sin\n",
    "from math import sqrt\n",
    "from copy import deepcopy\n",
    "import matplotlib.pyplot as plt"
   ]
  },
  {
   "cell_type": "markdown",
   "id": "ac3507d7",
   "metadata": {},
   "source": [
    "### Tworzenie macierzy rozmiaru N x N, z a1 jako diagonalą i a2, a3 polami oddalonymi o 1 i 2 pola od diagonali"
   ]
  },
  {
   "cell_type": "code",
   "execution_count": 2,
   "id": "bfa2a0d3",
   "metadata": {},
   "outputs": [],
   "source": [
    "def create_matrix(a1, a2, a3, N):\n",
    "    matrix = [[0 for i in range(N)] for j in range(N)]\n",
    "\n",
    "    diag_index = 0\n",
    "\n",
    "    for row in matrix:\n",
    "        if diag_index - 2 >= 0:\n",
    "            row[diag_index - 2] = a3\n",
    "        if diag_index - 1 >= 0:\n",
    "            row[diag_index - 1] = a2\n",
    "        row[diag_index] = a1\n",
    "        if diag_index + 1 < N:\n",
    "            row[diag_index + 1] = a2\n",
    "        if diag_index + 2 < N:\n",
    "            row[diag_index + 2] = a3\n",
    "\n",
    "        diag_index += 1\n",
    "\n",
    "    return matrix"
   ]
  },
  {
   "cell_type": "markdown",
   "id": "05674c75",
   "metadata": {},
   "source": [
    "### Tworzenie wektora b"
   ]
  },
  {
   "cell_type": "code",
   "execution_count": 3,
   "id": "9cc5d88b",
   "metadata": {},
   "outputs": [],
   "source": [
    "def create_vector(f, N):\n",
    "    return [sin(i * (f + 1)) for i in range(N)]"
   ]
  },
  {
   "cell_type": "markdown",
   "id": "bc13ae0d",
   "metadata": {},
   "source": [
    "### Funkcje tworzące odpowiednio macierz L, U i diagonalną z macierzy wejściowej. Chodzi o macierze dotyczące algorytmów iteracyjnych."
   ]
  },
  {
   "cell_type": "code",
   "execution_count": 4,
   "id": "d071e8f8",
   "metadata": {},
   "outputs": [],
   "source": [
    "def get_L(matrix):\n",
    "    n = len(matrix)\n",
    "    new_matrix = [[0 for i in range(n)] for j in range(n)]\n",
    "    for j, row in enumerate(matrix):\n",
    "        for i, value in enumerate(row):\n",
    "            if i >= j:\n",
    "                break\n",
    "            new_matrix[j][i] = value\n",
    "    return new_matrix"
   ]
  },
  {
   "cell_type": "code",
   "execution_count": 5,
   "id": "d013d371",
   "metadata": {},
   "outputs": [],
   "source": [
    "def get_U(matrix):\n",
    "    diag_index = 0\n",
    "    n = len(matrix)\n",
    "    new_matrix = [[0 for i in range(n)] for j in range(n)]\n",
    "    for j, row in enumerate(matrix):\n",
    "        for i, value in enumerate(row):\n",
    "            if i <= diag_index:\n",
    "                continue\n",
    "            new_matrix[j][i] = value\n",
    "        diag_index += 1\n",
    "    return new_matrix"
   ]
  },
  {
   "cell_type": "code",
   "execution_count": 6,
   "id": "1ae0152b",
   "metadata": {},
   "outputs": [],
   "source": [
    "def get_D(matrix):\n",
    "    n = len(matrix)\n",
    "    new_matrix = [[0 for _ in range(n)] for _ in range(n)]\n",
    "    for i in range(n):\n",
    "        new_matrix[i][i] = matrix[i][i]\n",
    "    return new_matrix"
   ]
  },
  {
   "cell_type": "markdown",
   "id": "eb360ba7",
   "metadata": {},
   "source": [
    "### Funkcja dodająca do siebie dwie macierze"
   ]
  },
  {
   "cell_type": "code",
   "execution_count": 7,
   "id": "6954e49b",
   "metadata": {},
   "outputs": [],
   "source": [
    "def add_martix(matrix1, matrix2):\n",
    "    new_matrix = deepcopy(matrix1)\n",
    "    for i, row in enumerate(matrix2):\n",
    "        for j, element in enumerate(row):\n",
    "            new_matrix[i][j] += element\n",
    "    return new_matrix"
   ]
  },
  {
   "cell_type": "markdown",
   "id": "74ce86c0",
   "metadata": {},
   "source": [
    "### Funkcja dodająca dwa wektory"
   ]
  },
  {
   "cell_type": "code",
   "execution_count": 8,
   "id": "a14a1d9d",
   "metadata": {},
   "outputs": [],
   "source": [
    "def add_vectors(vecor1, vector2):\n",
    "    new_vector = [el for el in vecor1]\n",
    "    for i, element in enumerate(vector2):\n",
    "        new_vector[i] += element\n",
    "    return new_vector"
   ]
  },
  {
   "cell_type": "markdown",
   "id": "c80d7f82",
   "metadata": {},
   "source": [
    "### Funkcja mnożąca macierz i wektor"
   ]
  },
  {
   "cell_type": "code",
   "execution_count": 9,
   "id": "86e4b190",
   "metadata": {},
   "outputs": [],
   "source": [
    "def multiply_matrix_vector(matrix, vector):\n",
    "    n = len(matrix)\n",
    "    new_vector = [0 for _ in range(n)]\n",
    "    for i, row in enumerate(matrix):\n",
    "        for j, element in enumerate(row):\n",
    "            new_vector[i] += matrix[i][j] * vector[j]\n",
    "    return new_vector"
   ]
  },
  {
   "cell_type": "markdown",
   "id": "c2f0cd4c",
   "metadata": {},
   "source": [
    "### Funkcja mnożąca macierz razy skalar"
   ]
  },
  {
   "cell_type": "code",
   "execution_count": 10,
   "id": "d125a65a",
   "metadata": {},
   "outputs": [],
   "source": [
    "def multiply_matrix_value(matrix, value):\n",
    "    new_matrix = deepcopy(matrix)\n",
    "    for i, row in enumerate(new_matrix):\n",
    "        for j, element in enumerate(row):\n",
    "            new_matrix[i][j] = element * value\n",
    "    return new_matrix"
   ]
  },
  {
   "cell_type": "markdown",
   "id": "8f63f875",
   "metadata": {},
   "source": [
    "### Funkcja licząca normę euklidesową"
   ]
  },
  {
   "cell_type": "code",
   "execution_count": 11,
   "id": "c80c06fe",
   "metadata": {},
   "outputs": [],
   "source": [
    "def norm(vector):\n",
    "    x = 0.0\n",
    "    for element in vector:\n",
    "        x += element ** 2\n",
    "    return sqrt(x)"
   ]
  },
  {
   "cell_type": "markdown",
   "id": "f86e0bd5",
   "metadata": {},
   "source": [
    "### Funkcja zamieniająca rzędy w macierzy tak aby na diagonali nie było zera"
   ]
  },
  {
   "cell_type": "code",
   "execution_count": 12,
   "id": "5490edb7",
   "metadata": {},
   "outputs": [],
   "source": [
    "def remove_zero_from_diagonal(matrix, vector, zero_index):\n",
    "    new_matrix = []\n",
    "    new_vector = deepcopy(vector)\n",
    "    for i, element in enumerate(matrix[zero_index]):\n",
    "        if element != 0 and matrix[i][zero_index] != 0:\n",
    "            new_vector[i], new_vector[zero_index] = new_vector[zero_index], new_vector[i]\n",
    "            if i < zero_index:\n",
    "                new_matrix = matrix[:i] + [matrix[zero_index]] + matrix[i + 1:zero_index] + [matrix[i]]\n",
    "                if zero_index < len(matrix):\n",
    "                    new_matrix += matrix[(zero_index + 1):]\n",
    "            else:\n",
    "                new_matrix = matrix[:zero_index] + [matrix[i]] + matrix[zero_index + 1:i] + [matrix[zero_index]]\n",
    "                if i < len(matrix):\n",
    "                    new_matrix += matrix[(i + 1):]\n",
    "            return new_matrix, new_vector\n",
    "    return matrix, vector"
   ]
  },
  {
   "cell_type": "markdown",
   "id": "7d6dada6",
   "metadata": {},
   "source": [
    "### Funkcja która zwraca wynik równania dla macierzy diagonalnej"
   ]
  },
  {
   "cell_type": "code",
   "execution_count": 13,
   "id": "b47fd7fc",
   "metadata": {},
   "outputs": [],
   "source": [
    "def solve_diagonal_equation(D, vector):\n",
    "    result = []\n",
    "    for i in range(len(D)):\n",
    "        result.append(vector[i] / D[i][i])\n",
    "    return result"
   ]
  },
  {
   "cell_type": "markdown",
   "id": "1aa7ba0f",
   "metadata": {},
   "source": [
    "### Funkcja rozwiązująca równanie macierzy która jest macierzą trójkątną dolną"
   ]
  },
  {
   "cell_type": "code",
   "execution_count": 14,
   "id": "7b21cc52",
   "metadata": {},
   "outputs": [],
   "source": [
    "def solve_L_equation(matrix_p, vector_p):\n",
    "    matrix = deepcopy(matrix_p)\n",
    "    vector = deepcopy(vector_p)\n",
    "    for i in range(len(matrix)):\n",
    "        if matrix[i][i] == 0:\n",
    "            matrix, vector = remove_zero_from_diagonal(matrix, vector, i)\n",
    "        diag_val = matrix[i][i]\n",
    "        for j, val in enumerate([x[i] for x in matrix]):\n",
    "            if j <= i:\n",
    "                continue\n",
    "            matrix[j][i] = 0\n",
    "            vector[j] = vector[j] - (val * vector[i]) / matrix[i][i]\n",
    "    result = solve_diagonal_equation(matrix, vector)\n",
    "    return result"
   ]
  },
  {
   "cell_type": "markdown",
   "id": "9ea45218",
   "metadata": {},
   "source": [
    "### Funkcja rozwiązująca równanie macierzy która jest macierzą trójkątną górną"
   ]
  },
  {
   "cell_type": "code",
   "execution_count": 15,
   "id": "307b42dc",
   "metadata": {},
   "outputs": [],
   "source": [
    "def solve_U_equation(matrix_p,vector_p):\n",
    "    matrix = deepcopy(matrix_p)\n",
    "    vector = deepcopy(vector_p)\n",
    "    N = len(matrix)\n",
    "    for i in reversed(range(N)):\n",
    "        if matrix[i][i] == 0:\n",
    "            matrix, vector = remove_zero_from_diagonal(matrix, vector, i)\n",
    "        j = N - 1\n",
    "        for val in reversed([x[i] for x in matrix]):\n",
    "            if j >= i:\n",
    "                j -= 1\n",
    "                continue\n",
    "            matrix[j][i] = 0\n",
    "            vector[j] = vector[j] - (val * vector[i]) / matrix[i][i]\n",
    "            j -= 1\n",
    "    result = solve_diagonal_equation(matrix,vector)\n",
    "    return result"
   ]
  },
  {
   "cell_type": "markdown",
   "id": "58dc4d3b",
   "metadata": {},
   "source": [
    "## Metody iteracyjne"
   ]
  },
  {
   "cell_type": "markdown",
   "id": "5d6cd61f",
   "metadata": {},
   "source": [
    "### Algorytm Jacobiego"
   ]
  },
  {
   "cell_type": "markdown",
   "id": "47a925d4",
   "metadata": {},
   "source": [
    "Na początku funcja tworzy macierze *L*, *U* i diagonalną *D* na podstawie Macierzy wejściowej. Następnie w pętli liczony jest przybliżony wynik *x* , wektor residuum *res* oraz norma residuum *norm_res*. Przybliżony wynik jest liczony do momentu aż norma residuum będzie mniejsza niż minimalna norma, którą ustawiłem na 10 ^ (-6). Wzór na wynik przybliżony w kolejnej operacji to x = D \\ (L + U)x + D \\ b. Przy każdej linijce kodu napisałem komentarz jak na symbolach można przedstawić aktualną zawartość zmiennej do której przypisana jest wartość zwracana przez wywołane operacje.\n",
    "\n",
    "Operacja \"\\\\\" którą użyłem w komentarzach w kodzie oznacza rozwiązanie równania."
   ]
  },
  {
   "cell_type": "code",
   "execution_count": 16,
   "id": "dfe6e755",
   "metadata": {},
   "outputs": [],
   "source": [
    "def jacobi(matrix, b):\n",
    "    x = [1 for i in b]\n",
    "    res = []\n",
    "    norm_res = 1.0\n",
    "    min_norm = 10 ** (-6)\n",
    "    L = get_L(matrix)\n",
    "    U = get_U(matrix)\n",
    "    D = get_D(matrix)\n",
    "    i = 0\n",
    "    while norm_res > min_norm:\n",
    "        # x = -D \\ (L + U)x + D \\ b\n",
    "        left = add_martix(L, U) # L + U\n",
    "        left = multiply_matrix_vector(left, x) # (L + U)x\n",
    "        left = solve_diagonal_equation(multiply_matrix_value(D, -1), left) # -D \\ (L + U)x\n",
    "        right = solve_diagonal_equation(D, b) # D \\ b\n",
    "        x = add_vectors(left, right) # x = -D \\ (L + U)x + D \\ b\n",
    "\n",
    "        # res = Ax - b\n",
    "        Ax = multiply_matrix_vector(matrix, x)\n",
    "        res = add_vectors(Ax, [(-1) * el for el in b])\n",
    "\n",
    "        norm_res = norm(res)\n",
    "        i += 1\n",
    "\n",
    "    print(\"Ended after \" + str(i) + \" iterations\")\n",
    "    return x"
   ]
  },
  {
   "cell_type": "markdown",
   "id": "0d5a3ba7",
   "metadata": {},
   "source": [
    "Wywołanie agorytmu Jacobiego dla poniższych parametrów:"
   ]
  },
  {
   "cell_type": "code",
   "execution_count": 17,
   "id": "cb21b6bf",
   "metadata": {},
   "outputs": [
    {
     "name": "stdout",
     "output_type": "stream",
     "text": [
      "Ended after 17 iterations\n"
     ]
    }
   ],
   "source": [
    "N = 948\n",
    "a1 = 5 + 8\n",
    "a2 = -1\n",
    "a3 = -1\n",
    "matrix = create_matrix(a1, a2, a3, N)\n",
    "vector = create_vector(4, N)\n",
    "\n",
    "result_jacobi = jacobi(matrix, vector)"
   ]
  },
  {
   "cell_type": "markdown",
   "id": "6dcdbf09",
   "metadata": {},
   "source": [
    "### Algorytm Gaussa-Seidla"
   ]
  },
  {
   "cell_type": "markdown",
   "id": "f6b8b3f4",
   "metadata": {},
   "source": [
    "Algorytm Gaussa-Seidla w moim wykonaniu różni się od Jacobiego wzorem na wektor przybliżonego wyniku *x*. \n",
    "\n",
    "Wygląda on następująco:  x = - (D + L) \\ (Ux) + (D + L) \\ b.\n",
    "\n",
    "Kolejną różnicą jest funkcja użyta do rozwiązania równania liniowego. W algorytmie Jacobiego jedynie mieliśmy do czynienia z macierzą diagonalną, a w przypadku tego algorytmu potrzeba funkcji rozwiązującej równania z macierzą trójkątną dolną. Więc funkcja *solve_L_equation* jest używana jako \"*\\\\*\", a nie funkcja *solve_diagonal_equation*"
   ]
  },
  {
   "cell_type": "code",
   "execution_count": 18,
   "id": "31dab95d",
   "metadata": {},
   "outputs": [],
   "source": [
    "def gauss_seidel(matrix, b):\n",
    "    x = [1 for i in b]\n",
    "    res = []\n",
    "    norm_res = 1.0\n",
    "    min_norm = 10 ** (-6)\n",
    "    L = get_L(matrix)\n",
    "    U = get_U(matrix)\n",
    "    D = get_D(matrix)\n",
    "    i = 0\n",
    "    while norm_res > min_norm:\n",
    "        # x = - (D + L) \\ (Ux) + (D + L) \\ b\n",
    "        left = add_martix(D, L) # D + L\n",
    "        left = multiply_matrix_value(left, -1) # -(D + L)\n",
    "        middle = middle = multiply_matrix_vector(U, x) # Ux\n",
    "        left = solve_L_equation(left, middle) #-(D + L) \\ Ux\n",
    "        right = add_martix(D, L) # D + L\n",
    "        right = solve_L_equation(right, b) # (D + L) \\ b\n",
    "        x = add_vectors(left, right) # x = - (D + L) \\ (Ux) + (D + L) \\ b\n",
    "\n",
    "        # res = Ax - b\n",
    "        Ax = multiply_matrix_vector(matrix, x)\n",
    "        res = add_vectors(Ax, [(-1) * el for el in b])\n",
    "        norm_res = norm(res)\n",
    "        i += 1\n",
    "\n",
    "    print(\"Ended after \" + str(i) + \" iterations\")\n",
    "    return x"
   ]
  },
  {
   "cell_type": "markdown",
   "id": "a19ca19b",
   "metadata": {},
   "source": [
    "Wywołanie algorytmu Gaussa-Seidla:"
   ]
  },
  {
   "cell_type": "code",
   "execution_count": 19,
   "id": "dcb9e23b",
   "metadata": {},
   "outputs": [
    {
     "name": "stdout",
     "output_type": "stream",
     "text": [
      "Ended after 12 iterations\n"
     ]
    }
   ],
   "source": [
    "N = 948\n",
    "a1 = 5 + 8\n",
    "a2 = -1\n",
    "a3 = -1\n",
    "matrix = create_matrix(a1, a2, a3, N)\n",
    "vector = create_vector(4, N)\n",
    "\n",
    "result_gauss_seidel = gauss_seidel(matrix, vector)"
   ]
  },
  {
   "cell_type": "markdown",
   "id": "ec5aaa72",
   "metadata": {},
   "source": [
    "Z adnotacji wyświetlanych przez funkcję można zauważyć, że algorytm Gaussa-Seidla potrzebuje mniej iteracji aby dojść do odpowiednio bliskiego wyniku niż algorytm Jacobiego.\n",
    "\n",
    "Porównanie wyników obu algorytmów:"
   ]
  },
  {
   "cell_type": "code",
   "execution_count": 20,
   "id": "e093f321",
   "metadata": {},
   "outputs": [
    {
     "name": "stdout",
     "output_type": "stream",
     "text": [
      "2.14211477383733e-08\n"
     ]
    }
   ],
   "source": [
    "print(norm(add_vectors(result_jacobi,[(-1) * el for el in result_gauss_seidel])))"
   ]
  },
  {
   "cell_type": "markdown",
   "id": "4371c480",
   "metadata": {},
   "source": [
    "Jak widać oba algorytmy zwróciły bardzo podobne wyniki, co można zauważyć że norma z różnicy tych wyników jest rzędu 10 ^ (-8)"
   ]
  },
  {
   "cell_type": "markdown",
   "id": "f92ba211",
   "metadata": {},
   "source": [
    "Na potrzeby zadania C przerobiłem algorytmy iteracyjne tak aby zwracały swoją normę w kolejnych 10 iteracjach aby zaobserwować czy wektor przybliżenia zbiega do poprawnego wyniku."
   ]
  },
  {
   "cell_type": "code",
   "execution_count": 21,
   "id": "3b9e3338",
   "metadata": {},
   "outputs": [],
   "source": [
    "def gauss_seidel_C(matrix, b):\n",
    "    x = [1 for i in b]\n",
    "    res = []\n",
    "    norm_res = 1.0\n",
    "    min_norm = 10 ** (-6)\n",
    "    L = get_L(matrix)\n",
    "    U = get_U(matrix)\n",
    "    D = get_D(matrix)\n",
    "    i = 0\n",
    "    norms = []\n",
    "    while norm_res > min_norm and i < 10:\n",
    "        # x = - (D + L) \\ (Ux) + (D + L) \\b\n",
    "        left = add_martix(D, L)\n",
    "        left = multiply_matrix_value(left, -1)\n",
    "        middle = middle = multiply_matrix_vector(U, x)\n",
    "        left = solve_L_equation(left, middle)\n",
    "        right = add_martix(D, L)\n",
    "        right = solve_L_equation(right, b)\n",
    "        x = add_vectors(left, right)\n",
    "\n",
    "        # res = Ax - b\n",
    "        Ax = multiply_matrix_vector(matrix, x)\n",
    "        res = add_vectors(Ax, [(-1) * el for el in b])\n",
    "        norm_res = norm(res)\n",
    "        norms.append(norm_res)\n",
    "        i += 1\n",
    "    return norms\n",
    "        \n",
    "def jacobi_C(matrix, b):\n",
    "    x = [1 for i in b]\n",
    "    res = []\n",
    "    norm_res = 1.0\n",
    "    min_norm = 10 ** (-6)\n",
    "    L = get_L(matrix)\n",
    "    U = get_U(matrix)\n",
    "    D = get_D(matrix)\n",
    "    norms = []\n",
    "    i = 0\n",
    "    while norm_res > min_norm and i < 10:\n",
    "        # x = D \\ (L + U)x + D \\ b\n",
    "        left = add_martix(L, U)\n",
    "        left = multiply_matrix_vector(left, x)\n",
    "        left = solve_diagonal_equation(multiply_matrix_value(D, -1), left)\n",
    "        right = solve_diagonal_equation(D, b)\n",
    "        x = add_vectors(left, right)\n",
    "\n",
    "        # res = Ax - b\n",
    "        Ax = multiply_matrix_vector(matrix, x)\n",
    "        res = add_vectors(Ax, [(-1) * el for el in b])\n",
    "\n",
    "        norm_res = norm(res)\n",
    "        norms.append(norm_res)\n",
    "        i += 1\n",
    "    return norms"
   ]
  },
  {
   "cell_type": "markdown",
   "id": "58405e37",
   "metadata": {},
   "source": [
    "Wywołanie nowych funkcji z parametrami z zad C"
   ]
  },
  {
   "cell_type": "code",
   "execution_count": 22,
   "id": "732519ba",
   "metadata": {},
   "outputs": [
    {
     "data": {
      "image/png": "[encoded data removed]",
      "text/plain": [
       "<Figure size 432x288 with 1 Axes>"
      ]
     },
     "metadata": {
      "needs_background": "light"
     },
     "output_type": "display_data"
    },
    {
     "data": {
      "image/png": "[encoded data removed]",
      "text/plain": [
       "<Figure size 432x288 with 1 Axes>"
      ]
     },
     "metadata": {
      "needs_background": "light"
     },
     "output_type": "display_data"
    }
   ],
   "source": [
    "N = 948\n",
    "a1 = 3\n",
    "a2 = -1\n",
    "a3 = -1\n",
    "matrix = create_matrix(a1, a2, a3, N)\n",
    "vector = create_vector(4, N)\n",
    "result_jacobi = jacobi_C(matrix, vector)\n",
    "result_gauss_seidel = gauss_seidel_C(matrix, vector)\n",
    "#print(result_jacobi)\n",
    "#print()\n",
    "#print(result_gauss_seidel)\n",
    "plt.plot(result_jacobi)\n",
    "plt.title(\"Norma residuum dla iteracji dla algorytmu Jacobiego\")\n",
    "plt.xlabel(\"Numer iteracji\")\n",
    "plt.ylabel(\"Wartość normy residuum\")\n",
    "plt.show()\n",
    "plt.plot(result_gauss_seidel)\n",
    "plt.title(\"Norma residuum dla iteracji dla algorytmu Gaussa-Seidla\")\n",
    "plt.xlabel(\"Numer iteracji\")\n",
    "plt.ylabel(\"Wartość normy residuum\")\n",
    "plt.show()"
   ]
  },
  {
   "cell_type": "markdown",
   "id": "2fc17079",
   "metadata": {},
   "source": [
    "Można zauważyć że dla powyższych parametrów norma residuum rośnie. Nie zbiega do zera. Oznacza to że algorytmy nie zbliżają się do dobrego wyniku. Wynika z tego, że te algorytmy nie nadają się do rozwiązywania wszystkich układów równań."
   ]
  },
  {
   "cell_type": "markdown",
   "id": "c9222204",
   "metadata": {},
   "source": [
    "## Metoda bezpośrednia rozwiązywania układów równań liniowych"
   ]
  },
  {
   "cell_type": "markdown",
   "id": "651e0062",
   "metadata": {},
   "source": [
    "### Funkcja tworząca macierze L i U wykorzystywane przy faktoryzacji LU"
   ]
  },
  {
   "cell_type": "markdown",
   "id": "e5dc0b0f",
   "metadata": {},
   "source": [
    "Macierz L to macierz trójkątna dolna, a macierz U - trójkątna górna, takie że LUx = b, gdzie b jest wektorem danych wejściowych, a x jest wektorem wynikowym układu."
   ]
  },
  {
   "cell_type": "code",
   "execution_count": 23,
   "id": "7b68170f",
   "metadata": {},
   "outputs": [],
   "source": [
    "def matrix_factorization_LU(matrix):\n",
    "    N = len(matrix)\n",
    "    U = deepcopy(matrix)\n",
    "    L = [[0 for i in range(N)] for j in range(N)]\n",
    "    for i in range(N):\n",
    "        L[i][i] = 1\n",
    "\n",
    "    for k in range(N - 1):\n",
    "        for j in range(k + 1, N):\n",
    "            L[j][k] = U[j][k] / U[k][k]\n",
    "            for i in range(k, N):\n",
    "                U[j][i] = U[j][i] - L[j][k] * U[k][i]\n",
    "\n",
    "    return L, U"
   ]
  },
  {
   "cell_type": "markdown",
   "id": "cbbdc2d4",
   "metadata": {},
   "source": [
    "### Algorytm bezpośreni rozwiązujący układy równań za pomocą faktoryzacji LU"
   ]
  },
  {
   "cell_type": "code",
   "execution_count": 24,
   "id": "2673bb16",
   "metadata": {},
   "outputs": [],
   "source": [
    "def direct_algorithm(matrix, b):\n",
    "    L, U = matrix_factorization_LU(matrix)\n",
    "    y = solve_L_equation(L, b)\n",
    "    x = solve_U_equation(U, y)\n",
    "    return x"
   ]
  },
  {
   "cell_type": "markdown",
   "id": "c1facc82",
   "metadata": {},
   "source": [
    "Wywołanie funkcji z parametrami z zadania C"
   ]
  },
  {
   "cell_type": "code",
   "execution_count": 26,
   "id": "50c5d8a5",
   "metadata": {},
   "outputs": [
    {
     "name": "stdout",
     "output_type": "stream",
     "text": [
      "6.079778909017103e-13\n"
     ]
    }
   ],
   "source": [
    "N = 948\n",
    "a1 = 3\n",
    "a2 = -1\n",
    "a3 = -1\n",
    "matrix = create_matrix(a1, a2, a3, N)\n",
    "vector = create_vector(4, N)\n",
    "x = direct_algorithm(matrix, vector)\n",
    "Ax = multiply_matrix_vector(matrix, x)\n",
    "res = add_vectors(Ax, [(-1) * el for el in vector])\n",
    "norm_res = norm(res)\n",
    "print(norm_res)"
   ]
  },
  {
   "cell_type": "markdown",
   "id": "5a58a8d3",
   "metadata": {},
   "source": [
    "Można zauważyć że norma residuum jest bardzo niska rzędu 10 ^ (-13). Wynika z tego, że ta metoda daje bardzo zbliżony wynik do poprawnej wartości. "
   ]
  },
  {
   "cell_type": "code",
   "execution_count": null,
   "id": "5a8f1f90",
   "metadata": {},
   "outputs": [],
   "source": []
  }
 ],
 "metadata": {
  "kernelspec": {
   "display_name": "Python 3 (ipykernel)",
   "language": "python",
   "name": "python3"
  },
  "language_info": {
   "codemirror_mode": {
    "name": "ipython",
    "version": 3
   },
   "file_extension": ".py",
   "mimetype": "text/x-python",
   "name": "python",
   "nbconvert_exporter": "python",
   "pygments_lexer": "ipython3",
   "version": "3.9.12"
  }
 },
 "nbformat": 4,
 "nbformat_minor": 5
}
